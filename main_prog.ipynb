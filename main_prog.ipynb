{
 "cells": [
  {
   "cell_type": "code",
   "execution_count": 3,
   "metadata": {},
   "outputs": [
    {
     "name": "stdout",
     "output_type": "stream",
     "text": [
      "Collecting pygame\n",
      "  Downloading pygame-2.0.1-cp38-cp38-manylinux1_x86_64.whl (11.8 MB)\n",
      "\u001b[K     |████████████████████████████████| 11.8 MB 1.2 MB/s eta 0:00:01\n",
      "\u001b[?25hInstalling collected packages: pygame\n",
      "Successfully installed pygame-2.0.1\n"
     ]
    }
   ],
   "source": [
    "\n",
    "! pip install pygame"
   ]
  },
  {
   "cell_type": "code",
   "execution_count": 4,
   "metadata": {},
   "outputs": [
    {
     "name": "stdout",
     "output_type": "stream",
     "text": [
      "pygame 2.0.1 (SDL 2.0.14, Python 3.8.5)\n",
      "Hello from the pygame community. https://www.pygame.org/contribute.html\n"
     ]
    }
   ],
   "source": [
    "import cv2\n",
    "import numpy as np\n",
    "from pygame import mixer"
   ]
  },
  {
   "cell_type": "code",
   "execution_count": 5,
   "metadata": {},
   "outputs": [],
   "source": [
    "lower = [17, 15, 100]\n",
    "upper = [80, 76, 220]\n",
    "\n",
    "# initialize mixer\n",
    "mixer.init()\n",
    "\n",
    "# region coordinates\n",
    "k_top, k_bottom, k_right, k_left = 180, 280, 540, 640\n",
    "h_top, h_bottom, h_right, h_left = 140, 240, 300, 400\n",
    "s_top, s_bottom, s_right, s_left = 140, 240, 750, 850"
   ]
  },
  {
   "cell_type": "code",
   "execution_count": null,
   "metadata": {},
   "outputs": [],
   "source": [
    "def playKick():\n",
    "    mixer.music.load('kick.ogg')\n",
    "    mixer.music.play()\n",
    "\n",
    "def playHihat():\n",
    "    mixer.music.load('hihat.ogg')\n",
    "    mixer.music.play()\n",
    "\n",
    "def playSnare():\n",
    "    mixer.music.load('snare.ogg')\n",
    "    mixer.music.play()\n",
    "\n",
    "\n",
    "def findContours(image):\n",
    "    img = cv2.cvtColor(image, cv2.COLOR_BGR2GRAY)\n",
    "    thresholded = cv2.threshold(img, 15, 255, cv2.THRESH_BINARY)[1]\n",
    "    ( cnts, _) = cv2.findContours(thresholded.copy(), cv2.RETR_EXTERNAL, cv2.CHAIN_APPROX_SIMPLE )\n",
    "                                   \n",
    "    return len(cnts)\n",
    "\n",
    "# bool for each drum\n",
    "e_snare = 0\n",
    "e_kick  = 0\n",
    "e_hihat = 0\n",
    "\n",
    "#----------------------\n",
    "# main function\n",
    "#----------------------\n",
    "if __name__ == \"__main__\":\n",
    "    # accumulated weight\n",
    "    aWeight = 0.5\n",
    "\n",
    "    # get reference to camera\n",
    "    cam = cv2.VideoCapture(0)\n",
    "\n",
    "    # camera related tuning\n",
    "    cam.set(3, 1280)\n",
    "    cam.set(4, 720)\n",
    "    cam.set(cv2.CAP_PROP_FPS, 60)\n",
    "\n",
    "    # loop till user presses \"q\"\n",
    "    while True:\n",
    "        # read a frame from the camera\n",
    "        status, frame = cam.read()\n",
    "\n",
    "        # take a clone \n",
    "        clone = frame.copy()\n",
    "        clone = cv2.flip(clone, 1)\n",
    "        clone = cv2.resize(clone, (1280,720))\n",
    "\n",
    "        # get the three drum regions\n",
    "        reg_kick  = clone[k_top:k_bottom, k_right:k_left]\n",
    "        reg_hihat = clone[h_top:h_bottom, h_right:h_left]\n",
    "        reg_snare = clone[s_top:s_bottom, s_right:s_left]\n",
    "\n",
    "        # blur the regions\n",
    "        reg_kick  = cv2.GaussianBlur(reg_kick,  (7, 7), 0)\n",
    "        reg_hihat = cv2.GaussianBlur(reg_hihat, (7, 7), 0)\n",
    "        reg_snare = cv2.GaussianBlur(reg_snare, (7, 7), 0)\n",
    "\n",
    "        l = np.array(lower, dtype=\"uint8\")\n",
    "        u = np.array(upper, dtype=\"uint8\")\n",
    "\n",
    "        mask_kick  = cv2.inRange(reg_kick,  l, u)\n",
    "        mask_hihat = cv2.inRange(reg_hihat, l, u)\n",
    "        mask_snare = cv2.inRange(reg_snare, l, u)\n",
    "        \n",
    "        out_kick   = cv2.bitwise_and(reg_kick,  reg_kick,  mask=mask_kick)\n",
    "        out_hihat  = cv2.bitwise_and(reg_hihat, reg_hihat, mask=mask_hihat)\n",
    "        out_snare  = cv2.bitwise_and(reg_snare, reg_snare, mask=mask_snare)\n",
    "\n",
    "        cnts_kick  = findContours(out_kick)\n",
    "        cnts_hihat = findContours(out_hihat)\n",
    "        cnts_snare = findContours(out_snare)\n",
    "\n",
    "        if (cnts_kick > 0) and (e_kick == 0):\n",
    "                playKick()\n",
    "                e_kick = 1\n",
    "        elif (cnts_kick == 0):\n",
    "                e_kick = 0\n",
    "\n",
    "        if (cnts_hihat > 0) and (e_hihat == 0):\n",
    "                playHihat()\n",
    "                e_hihat = 1\n",
    "        elif (cnts_hihat == 0):\n",
    "                e_hihat = 0\t\n",
    "\n",
    "        if (cnts_snare > 0) and (e_snare == 0):\n",
    "                playSnare()\n",
    "                e_snare = 1\n",
    "        elif (cnts_snare == 0):\n",
    "                e_snare = 0\n",
    "        # draw the drum regions\n",
    "        cv2.rectangle(clone, (k_left,k_top), (k_right,k_bottom), (0,255,0,0.5), 2)\n",
    "        cv2.rectangle(clone, (h_left,h_top), (h_right,h_bottom), (255,0,0,0.5), 2)\n",
    "        cv2.rectangle(clone, (s_left,s_top), (s_right,s_bottom), (0,0,255,0.5), 2)\n",
    "\n",
    "        # display the frame\n",
    "        cv2.namedWindow(\"video\", cv2.WINDOW_AUTOSIZE)\n",
    "        cv2.imshow(\"video\", clone)\n",
    "\n",
    "        # if user presses 'q', quit the program\n",
    "        if cv2.waitKey(1) & 0XFF == ord('q'):\n",
    "               break\n",
    "    # release the camera\n",
    "    cam.release()\n",
    "\n",
    "    # destroy all windows\n",
    "    cv2.destroyAllWindows()"
   ]
  },
  {
   "cell_type": "code",
   "execution_count": null,
   "metadata": {},
   "outputs": [],
   "source": []
  },
  {
   "cell_type": "code",
   "execution_count": null,
   "metadata": {},
   "outputs": [],
   "source": []
  }
 ],
 "metadata": {
  "kernelspec": {
   "display_name": "Python 3",
   "language": "python",
   "name": "python3"
  },
  "language_info": {
   "codemirror_mode": {
    "name": "ipython",
    "version": 3
   },
   "file_extension": ".py",
   "mimetype": "text/x-python",
   "name": "python",
   "nbconvert_exporter": "python",
   "pygments_lexer": "ipython3",
   "version": "3.8.5"
  }
 },
 "nbformat": 4,
 "nbformat_minor": 2
}
